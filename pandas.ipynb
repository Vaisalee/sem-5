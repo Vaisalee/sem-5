{
 "cells": [
  {
   "cell_type": "code",
   "execution_count": 9,
   "id": "bb8570cf",
   "metadata": {},
   "outputs": [],
   "source": [
    "import pandas as pd"
   ]
  },
  {
   "cell_type": "code",
   "execution_count": 10,
   "id": "6e3fba1d",
   "metadata": {},
   "outputs": [
    {
     "data": {
      "text/plain": [
       "'2.2.2'"
      ]
     },
     "execution_count": 10,
     "metadata": {},
     "output_type": "execute_result"
    }
   ],
   "source": [
    "pd.__version__"
   ]
  },
  {
   "cell_type": "code",
   "execution_count": 11,
   "id": "07dc87a2",
   "metadata": {},
   "outputs": [],
   "source": [
    "s1=pd.Series(['ferro','kinder','dairymilk','toblerone','munch'],index=[1,2,3,4,5])"
   ]
  },
  {
   "cell_type": "code",
   "execution_count": 12,
   "id": "8b9ff873",
   "metadata": {},
   "outputs": [
    {
     "data": {
      "text/plain": [
       "1        ferro\n",
       "2       kinder\n",
       "3    dairymilk\n",
       "4    toblerone\n",
       "5        munch\n",
       "dtype: object"
      ]
     },
     "execution_count": 12,
     "metadata": {},
     "output_type": "execute_result"
    }
   ],
   "source": [
    "s1"
   ]
  },
  {
   "cell_type": "markdown",
   "id": "28883f7a",
   "metadata": {},
   "source": [
    "## DATA FRAME"
   ]
  },
  {
   "cell_type": "markdown",
   "id": "f9452f29",
   "metadata": {},
   "source": [
    " variable_name=pd.DataFrame(data,column=[column name])"
   ]
  },
  {
   "cell_type": "code",
   "execution_count": 13,
   "id": "2d62a2f3",
   "metadata": {},
   "outputs": [],
   "source": [
    "s2=pd.Series(['black','purple','white','rosegold','blue'],index=[1,2,3,4,5])"
   ]
  },
  {
   "cell_type": "code",
   "execution_count": 14,
   "id": "25fb4c6b",
   "metadata": {},
   "outputs": [
    {
     "data": {
      "text/plain": [
       "1       black\n",
       "2      purple\n",
       "3       white\n",
       "4    rosegold\n",
       "5        blue\n",
       "dtype: object"
      ]
     },
     "execution_count": 14,
     "metadata": {},
     "output_type": "execute_result"
    }
   ],
   "source": [
    "s2"
   ]
  },
  {
   "cell_type": "code",
   "execution_count": 15,
   "id": "796976ea",
   "metadata": {},
   "outputs": [],
   "source": [
    "df1=pd.DataFrame(s1,columns=[\"chocolate\"])"
   ]
  },
  {
   "cell_type": "code",
   "execution_count": 16,
   "id": "8b77d166",
   "metadata": {},
   "outputs": [
    {
     "data": {
      "text/html": [
       "<div>\n",
       "<style scoped>\n",
       "    .dataframe tbody tr th:only-of-type {\n",
       "        vertical-align: middle;\n",
       "    }\n",
       "\n",
       "    .dataframe tbody tr th {\n",
       "        vertical-align: top;\n",
       "    }\n",
       "\n",
       "    .dataframe thead th {\n",
       "        text-align: right;\n",
       "    }\n",
       "</style>\n",
       "<table border=\"1\" class=\"dataframe\">\n",
       "  <thead>\n",
       "    <tr style=\"text-align: right;\">\n",
       "      <th></th>\n",
       "      <th>chocolate</th>\n",
       "    </tr>\n",
       "  </thead>\n",
       "  <tbody>\n",
       "    <tr>\n",
       "      <th>1</th>\n",
       "      <td>ferro</td>\n",
       "    </tr>\n",
       "    <tr>\n",
       "      <th>2</th>\n",
       "      <td>kinder</td>\n",
       "    </tr>\n",
       "    <tr>\n",
       "      <th>3</th>\n",
       "      <td>dairymilk</td>\n",
       "    </tr>\n",
       "    <tr>\n",
       "      <th>4</th>\n",
       "      <td>toblerone</td>\n",
       "    </tr>\n",
       "    <tr>\n",
       "      <th>5</th>\n",
       "      <td>munch</td>\n",
       "    </tr>\n",
       "  </tbody>\n",
       "</table>\n",
       "</div>"
      ],
      "text/plain": [
       "   chocolate\n",
       "1      ferro\n",
       "2     kinder\n",
       "3  dairymilk\n",
       "4  toblerone\n",
       "5      munch"
      ]
     },
     "execution_count": 16,
     "metadata": {},
     "output_type": "execute_result"
    }
   ],
   "source": [
    "df1"
   ]
  },
  {
   "cell_type": "code",
   "execution_count": 17,
   "id": "cfd4a06d",
   "metadata": {},
   "outputs": [],
   "source": [
    "df1[\"colours\"]=s2"
   ]
  },
  {
   "cell_type": "code",
   "execution_count": 18,
   "id": "a7c5bfe0",
   "metadata": {},
   "outputs": [
    {
     "data": {
      "text/html": [
       "<div>\n",
       "<style scoped>\n",
       "    .dataframe tbody tr th:only-of-type {\n",
       "        vertical-align: middle;\n",
       "    }\n",
       "\n",
       "    .dataframe tbody tr th {\n",
       "        vertical-align: top;\n",
       "    }\n",
       "\n",
       "    .dataframe thead th {\n",
       "        text-align: right;\n",
       "    }\n",
       "</style>\n",
       "<table border=\"1\" class=\"dataframe\">\n",
       "  <thead>\n",
       "    <tr style=\"text-align: right;\">\n",
       "      <th></th>\n",
       "      <th>chocolate</th>\n",
       "      <th>colours</th>\n",
       "    </tr>\n",
       "  </thead>\n",
       "  <tbody>\n",
       "    <tr>\n",
       "      <th>1</th>\n",
       "      <td>ferro</td>\n",
       "      <td>black</td>\n",
       "    </tr>\n",
       "    <tr>\n",
       "      <th>2</th>\n",
       "      <td>kinder</td>\n",
       "      <td>purple</td>\n",
       "    </tr>\n",
       "    <tr>\n",
       "      <th>3</th>\n",
       "      <td>dairymilk</td>\n",
       "      <td>white</td>\n",
       "    </tr>\n",
       "    <tr>\n",
       "      <th>4</th>\n",
       "      <td>toblerone</td>\n",
       "      <td>rosegold</td>\n",
       "    </tr>\n",
       "    <tr>\n",
       "      <th>5</th>\n",
       "      <td>munch</td>\n",
       "      <td>blue</td>\n",
       "    </tr>\n",
       "  </tbody>\n",
       "</table>\n",
       "</div>"
      ],
      "text/plain": [
       "   chocolate   colours\n",
       "1      ferro     black\n",
       "2     kinder    purple\n",
       "3  dairymilk     white\n",
       "4  toblerone  rosegold\n",
       "5      munch      blue"
      ]
     },
     "execution_count": 18,
     "metadata": {},
     "output_type": "execute_result"
    }
   ],
   "source": [
    "df1"
   ]
  },
  {
   "cell_type": "code",
   "execution_count": 19,
   "id": "adca28f2",
   "metadata": {},
   "outputs": [],
   "source": [
    "food={\"veg\":{1:\"panner\",2:\"mushroom\",3:\"cauliflower\"},\"non veg\":{1:\"chicken\",2:\"crab\",3:\"prawn\"}};"
   ]
  },
  {
   "cell_type": "code",
   "execution_count": 20,
   "id": "607cb770",
   "metadata": {},
   "outputs": [],
   "source": [
    "df2=pd.DataFrame(food,columns=[\"veg\",\"non veg\"])"
   ]
  },
  {
   "cell_type": "code",
   "execution_count": 21,
   "id": "7488e193",
   "metadata": {},
   "outputs": [
    {
     "data": {
      "text/html": [
       "<div>\n",
       "<style scoped>\n",
       "    .dataframe tbody tr th:only-of-type {\n",
       "        vertical-align: middle;\n",
       "    }\n",
       "\n",
       "    .dataframe tbody tr th {\n",
       "        vertical-align: top;\n",
       "    }\n",
       "\n",
       "    .dataframe thead th {\n",
       "        text-align: right;\n",
       "    }\n",
       "</style>\n",
       "<table border=\"1\" class=\"dataframe\">\n",
       "  <thead>\n",
       "    <tr style=\"text-align: right;\">\n",
       "      <th></th>\n",
       "      <th>veg</th>\n",
       "      <th>non veg</th>\n",
       "    </tr>\n",
       "  </thead>\n",
       "  <tbody>\n",
       "    <tr>\n",
       "      <th>1</th>\n",
       "      <td>panner</td>\n",
       "      <td>chicken</td>\n",
       "    </tr>\n",
       "    <tr>\n",
       "      <th>2</th>\n",
       "      <td>mushroom</td>\n",
       "      <td>crab</td>\n",
       "    </tr>\n",
       "    <tr>\n",
       "      <th>3</th>\n",
       "      <td>cauliflower</td>\n",
       "      <td>prawn</td>\n",
       "    </tr>\n",
       "  </tbody>\n",
       "</table>\n",
       "</div>"
      ],
      "text/plain": [
       "           veg  non veg\n",
       "1       panner  chicken\n",
       "2     mushroom     crab\n",
       "3  cauliflower    prawn"
      ]
     },
     "execution_count": 21,
     "metadata": {},
     "output_type": "execute_result"
    }
   ],
   "source": [
    "df2"
   ]
  },
  {
   "cell_type": "markdown",
   "id": "184ae85a",
   "metadata": {},
   "source": [
    "## ACTIVITY 1\n",
    "create a database for your class,containing\"name\",\"reg no\",\"year of study\"as column names for 5 students"
   ]
  },
  {
   "cell_type": "code",
   "execution_count": 27,
   "id": "9e431a90",
   "metadata": {},
   "outputs": [],
   "source": [
    "Class={\"Name\":{1:\"Kabilan\",2:\"Nagulan\",3:\"Lishanthan\",4:\"Pagulan\",5:\"skanthan\"},\n",
    "       \"Reg no\":{1:2235,2:2250,3:2267,4:2287,5:2293},\n",
    "       \"Yearofstudy\":{1:\"First\",2:\"Third\" , 3:\"Second\",4:\"First\",5:\"Fourth\"}}"
   ]
  },
  {
   "cell_type": "code",
   "execution_count": 29,
   "id": "24ce40a7",
   "metadata": {},
   "outputs": [],
   "source": [
    "df3=pd.DataFrame(Class,columns=[\"Name\",\"Reg no\",\"Yearofstudy\"])"
   ]
  },
  {
   "cell_type": "code",
   "execution_count": 30,
   "id": "a9a52ee2",
   "metadata": {},
   "outputs": [
    {
     "data": {
      "text/html": [
       "<div>\n",
       "<style scoped>\n",
       "    .dataframe tbody tr th:only-of-type {\n",
       "        vertical-align: middle;\n",
       "    }\n",
       "\n",
       "    .dataframe tbody tr th {\n",
       "        vertical-align: top;\n",
       "    }\n",
       "\n",
       "    .dataframe thead th {\n",
       "        text-align: right;\n",
       "    }\n",
       "</style>\n",
       "<table border=\"1\" class=\"dataframe\">\n",
       "  <thead>\n",
       "    <tr style=\"text-align: right;\">\n",
       "      <th></th>\n",
       "      <th>Name</th>\n",
       "      <th>Reg no</th>\n",
       "      <th>Yearofstudy</th>\n",
       "    </tr>\n",
       "  </thead>\n",
       "  <tbody>\n",
       "    <tr>\n",
       "      <th>1</th>\n",
       "      <td>Kabilan</td>\n",
       "      <td>2235</td>\n",
       "      <td>First</td>\n",
       "    </tr>\n",
       "    <tr>\n",
       "      <th>2</th>\n",
       "      <td>Nagulan</td>\n",
       "      <td>2250</td>\n",
       "      <td>Third</td>\n",
       "    </tr>\n",
       "    <tr>\n",
       "      <th>3</th>\n",
       "      <td>Lishanthan</td>\n",
       "      <td>2267</td>\n",
       "      <td>Second</td>\n",
       "    </tr>\n",
       "    <tr>\n",
       "      <th>4</th>\n",
       "      <td>Pagulan</td>\n",
       "      <td>2287</td>\n",
       "      <td>First</td>\n",
       "    </tr>\n",
       "    <tr>\n",
       "      <th>5</th>\n",
       "      <td>skanthan</td>\n",
       "      <td>2293</td>\n",
       "      <td>Fourth</td>\n",
       "    </tr>\n",
       "  </tbody>\n",
       "</table>\n",
       "</div>"
      ],
      "text/plain": [
       "         Name  Reg no Yearofstudy\n",
       "1     Kabilan    2235       First\n",
       "2     Nagulan    2250       Third\n",
       "3  Lishanthan    2267      Second\n",
       "4     Pagulan    2287       First\n",
       "5    skanthan    2293      Fourth"
      ]
     },
     "execution_count": 30,
     "metadata": {},
     "output_type": "execute_result"
    }
   ],
   "source": [
    "df3"
   ]
  },
  {
   "cell_type": "code",
   "execution_count": 34,
   "id": "7132e6d1",
   "metadata": {},
   "outputs": [
    {
     "data": {
      "text/html": [
       "<div>\n",
       "<style scoped>\n",
       "    .dataframe tbody tr th:only-of-type {\n",
       "        vertical-align: middle;\n",
       "    }\n",
       "\n",
       "    .dataframe tbody tr th {\n",
       "        vertical-align: top;\n",
       "    }\n",
       "\n",
       "    .dataframe thead th {\n",
       "        text-align: right;\n",
       "    }\n",
       "</style>\n",
       "<table border=\"1\" class=\"dataframe\">\n",
       "  <thead>\n",
       "    <tr style=\"text-align: right;\">\n",
       "      <th></th>\n",
       "      <th>non veg</th>\n",
       "    </tr>\n",
       "  </thead>\n",
       "  <tbody>\n",
       "    <tr>\n",
       "      <th>1</th>\n",
       "      <td>chicken</td>\n",
       "    </tr>\n",
       "    <tr>\n",
       "      <th>2</th>\n",
       "      <td>crab</td>\n",
       "    </tr>\n",
       "    <tr>\n",
       "      <th>3</th>\n",
       "      <td>prawn</td>\n",
       "    </tr>\n",
       "  </tbody>\n",
       "</table>\n",
       "</div>"
      ],
      "text/plain": [
       "   non veg\n",
       "1  chicken\n",
       "2     crab\n",
       "3    prawn"
      ]
     },
     "execution_count": 34,
     "metadata": {},
     "output_type": "execute_result"
    }
   ],
   "source": [
    "df2.drop(\"veg\",axis=1)"
   ]
  },
  {
   "cell_type": "code",
   "execution_count": 36,
   "id": "0b0fb2ae",
   "metadata": {},
   "outputs": [],
   "source": [
    "name=df3[\"Name\"]"
   ]
  },
  {
   "cell_type": "code",
   "execution_count": 37,
   "id": "3eba7bfe",
   "metadata": {},
   "outputs": [
    {
     "data": {
      "text/plain": [
       "1       Kabilan\n",
       "2       Nagulan\n",
       "3    Lishanthan\n",
       "4       Pagulan\n",
       "5      skanthan\n",
       "Name: Name, dtype: object"
      ]
     },
     "execution_count": 37,
     "metadata": {},
     "output_type": "execute_result"
    }
   ],
   "source": [
    "name"
   ]
  },
  {
   "cell_type": "code",
   "execution_count": null,
   "id": "ef87bb44",
   "metadata": {},
   "outputs": [],
   "source": []
  }
 ],
 "metadata": {
  "kernelspec": {
   "display_name": "Python 3 (ipykernel)",
   "language": "python",
   "name": "python3"
  },
  "language_info": {
   "codemirror_mode": {
    "name": "ipython",
    "version": 3
   },
   "file_extension": ".py",
   "mimetype": "text/x-python",
   "name": "python",
   "nbconvert_exporter": "python",
   "pygments_lexer": "ipython3",
   "version": "3.11.5"
  }
 },
 "nbformat": 4,
 "nbformat_minor": 5
}
