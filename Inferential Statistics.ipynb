{
 "cells": [
  {
   "cell_type": "code",
   "execution_count": 13,
   "id": "4dd0ac4c",
   "metadata": {},
   "outputs": [],
   "source": [
    "import numpy as np"
   ]
  },
  {
   "cell_type": "markdown",
   "id": "e2f1c143",
   "metadata": {},
   "source": [
    "# Generate sample data:heights of 30 students(in inches)"
   ]
  },
  {
   "cell_type": "code",
   "execution_count": 14,
   "id": "3628881e",
   "metadata": {},
   "outputs": [],
   "source": [
    "np.random.seed()\n",
    "heights=np.random.normal(loc=65,scale=3,size=30)"
   ]
  },
  {
   "cell_type": "code",
   "execution_count": 15,
   "id": "27cac416",
   "metadata": {},
   "outputs": [
    {
     "data": {
      "text/plain": [
       "array([67.53018101, 63.96605045, 62.88787624, 65.86728821, 67.61516994,\n",
       "       67.44324285, 61.68428504, 61.63006136, 64.18750699, 64.92231141,\n",
       "       61.76403602, 66.20651962, 62.95671008, 63.32526663, 60.5336597 ,\n",
       "       65.51380518, 60.85132487, 61.3586651 , 66.94995793, 54.24000083,\n",
       "       58.94949928, 64.19370481, 61.21140576, 61.62244428, 65.75823773,\n",
       "       64.6396824 , 61.44835432, 65.04086731, 64.87788016, 64.38223798])"
      ]
     },
     "execution_count": 15,
     "metadata": {},
     "output_type": "execute_result"
    }
   ],
   "source": [
    "heights"
   ]
  },
  {
   "cell_type": "markdown",
   "id": "7264edf9",
   "metadata": {},
   "source": [
    "# Point estimation:Calculate the sample mean"
   ]
  },
  {
   "cell_type": "code",
   "execution_count": 16,
   "id": "45f48d1e",
   "metadata": {},
   "outputs": [
    {
     "name": "stdout",
     "output_type": "stream",
     "text": [
      "Sample Mean (Point Estimate): 63.451941116712504\n"
     ]
    }
   ],
   "source": [
    "sample_mean=np.mean(heights)\n",
    "print(\"Sample Mean (Point Estimate):\",sample_mean)"
   ]
  },
  {
   "cell_type": "code",
   "execution_count": 17,
   "id": "cf4067ce",
   "metadata": {},
   "outputs": [],
   "source": [
    "import numpy as np\n",
    "import scipy.stats as stats"
   ]
  },
  {
   "cell_type": "markdown",
   "id": "b8e79c43",
   "metadata": {},
   "source": [
    "# Generate sample data:heights of 30 students(in inches)"
   ]
  },
  {
   "cell_type": "code",
   "execution_count": 18,
   "id": "dcabb981",
   "metadata": {},
   "outputs": [],
   "source": [
    "np.random.seed()\n",
    "heights=np.random.normal(loc=65,scale=3,size=30)"
   ]
  },
  {
   "cell_type": "markdown",
   "id": "56b115a9",
   "metadata": {},
   "source": [
    "# Generate the sample mean and standard deviation "
   ]
  },
  {
   "cell_type": "code",
   "execution_count": 19,
   "id": "877ced49",
   "metadata": {},
   "outputs": [],
   "source": [
    "sample_mean=np.mean(heights)\n",
    "sample_std=np.std(heights,ddof=1)"
   ]
  },
  {
   "cell_type": "markdown",
   "id": "fef827e7",
   "metadata": {},
   "source": [
    "# Set the desired confidence level"
   ]
  },
  {
   "cell_type": "code",
   "execution_count": 20,
   "id": "8baa981d",
   "metadata": {},
   "outputs": [],
   "source": [
    "confidence_level=0.95"
   ]
  },
  {
   "cell_type": "markdown",
   "id": "b0086bd7",
   "metadata": {},
   "source": [
    "#  Calculate the margin of error"
   ]
  },
  {
   "cell_type": "code",
   "execution_count": 21,
   "id": "f4b9f00f",
   "metadata": {},
   "outputs": [],
   "source": [
    "margin_of_error=stats.t.ppf((1+confidence_level)/2,len(heights)-1)*(sample_std/np.sqrt(len(heights)))"
   ]
  },
  {
   "cell_type": "markdown",
   "id": "805f73a5",
   "metadata": {},
   "source": [
    "# Calculate the confidence interval"
   ]
  },
  {
   "cell_type": "code",
   "execution_count": 22,
   "id": "97963235",
   "metadata": {},
   "outputs": [],
   "source": [
    "lower_bound=sample_mean-margin_of_error\n",
    "upper_bound=sample_mean+margin_of_error"
   ]
  },
  {
   "cell_type": "code",
   "execution_count": 23,
   "id": "b95031b7",
   "metadata": {},
   "outputs": [
    {
     "name": "stdout",
     "output_type": "stream",
     "text": [
      " Confidence Interval(95.0%):[63.42984073973294,66.22312727894972]\n"
     ]
    }
   ],
   "source": [
    "print(f\" Confidence Interval({confidence_level*100}%):[{lower_bound},{upper_bound}]\")\n",
    "     "
   ]
  },
  {
   "cell_type": "code",
   "execution_count": 2,
   "id": "b0ee6e2a",
   "metadata": {},
   "outputs": [],
   "source": [
    "import numpy as np"
   ]
  },
  {
   "cell_type": "code",
   "execution_count": 3,
   "id": "4a0c1d1d",
   "metadata": {},
   "outputs": [],
   "source": [
    "from scipy import stats"
   ]
  },
  {
   "cell_type": "code",
   "execution_count": 4,
   "id": "0cff457b",
   "metadata": {},
   "outputs": [],
   "source": [
    "np.random.seed(42)\n",
    "group1_scores=np.random.normal(loc=70,scale=5,size=30)\n",
    "group2_scores=np.random.normal(loc=75,scale=5,size=30)"
   ]
  },
  {
   "cell_type": "code",
   "execution_count": 5,
   "id": "48f746e8",
   "metadata": {},
   "outputs": [],
   "source": [
    "t_statistic,p_value=stats.ttest_ind(group1_scores,group2_scores)"
   ]
  },
  {
   "cell_type": "markdown",
   "id": "66c27b50",
   "metadata": {},
   "source": [
    "# Set the significance level"
   ]
  },
  {
   "cell_type": "code",
   "execution_count": 6,
   "id": "4d8bfcc5",
   "metadata": {},
   "outputs": [],
   "source": [
    "alpha=0.05"
   ]
  },
  {
   "cell_type": "code",
   "execution_count": 7,
   "id": "56e3499c",
   "metadata": {},
   "outputs": [
    {
     "name": "stdout",
     "output_type": "stream",
     "text": [
      "T-test Results:\n",
      "T-statistic: -4.512913234547576\n",
      "P-value: 3.176506547469916e-05\n"
     ]
    }
   ],
   "source": [
    "print(\"T-test Results:\")\n",
    "print(\"T-statistic:\",t_statistic)\n",
    "print(\"P-value:\",p_value)"
   ]
  },
  {
   "cell_type": "markdown",
   "id": "1b0b6c74",
   "metadata": {},
   "source": [
    "# Check if the p-value is less than alpha to determine significance"
   ]
  },
  {
   "cell_type": "code",
   "execution_count": 8,
   "id": "4aa9075f",
   "metadata": {
    "scrolled": true
   },
   "outputs": [
    {
     "name": "stdout",
     "output_type": "stream",
     "text": [
      "Reject the null hypothesis.There is a significant difference between the means of the two groups.\n"
     ]
    }
   ],
   "source": [
    "if p_value<alpha:\n",
    "    print(\"Reject the null hypothesis.There is a significant difference between the means of the two groups.\")\n",
    "else:\n",
    "    print(\"Fail to reject the null hypothesis.There is no significant difference between the means of the two groups.\")"
   ]
  },
  {
   "cell_type": "markdown",
   "id": "bf255d2d",
   "metadata": {},
   "source": [
    "# perform two-tailed t-test"
   ]
  },
  {
   "cell_type": "code",
   "execution_count": 26,
   "id": "ff396b8e",
   "metadata": {},
   "outputs": [],
   "source": [
    "t_statistic_2tail,p_value_2tail=stats.ttest_ind(group1_scores,group2_scores,alternative='greater')"
   ]
  },
  {
   "cell_type": "markdown",
   "id": "d670ed43",
   "metadata": {},
   "source": [
    "# perform one-tailed t-test(left-tailed)"
   ]
  },
  {
   "cell_type": "code",
   "execution_count": 34,
   "id": "609657de",
   "metadata": {},
   "outputs": [],
   "source": [
    "t_statistic_1tail_left,p_value_1tail_left=stats.ttest_ind(group1_scores,group2_scores,alternative='greater')"
   ]
  },
  {
   "cell_type": "markdown",
   "id": "961f1403",
   "metadata": {},
   "source": [
    "# print two-tailed test results"
   ]
  },
  {
   "cell_type": "code",
   "execution_count": 35,
   "id": "9504a9c4",
   "metadata": {},
   "outputs": [
    {
     "name": "stdout",
     "output_type": "stream",
     "text": [
      "Two-tailed Test:\n",
      "T-statistic: -4.512913234547576\n",
      "p-value: 0.9999841174672627\n"
     ]
    }
   ],
   "source": [
    "print(\"Two-tailed Test:\")\n",
    "print(\"T-statistic:\",t_statistic_2tail)\n",
    "print(\"p-value:\",p_value_2tail)"
   ]
  },
  {
   "cell_type": "markdown",
   "id": "eb904f20",
   "metadata": {},
   "source": [
    "# print one-tailed test results"
   ]
  },
  {
   "cell_type": "code",
   "execution_count": 37,
   "id": "4e591883",
   "metadata": {},
   "outputs": [
    {
     "name": "stdout",
     "output_type": "stream",
     "text": [
      "\n",
      "one-tailed Test (left-tailed):\n",
      "T-statistic: -4.512913234547576\n",
      "P-value: 0.9999841174672627\n"
     ]
    }
   ],
   "source": [
    "print(\"\\none-tailed Test (left-tailed):\")\n",
    "print(\"T-statistic:\",t_statistic_1tail_left)\n",
    "print(\"P-value:\",p_value_1tail_left)"
   ]
  },
  {
   "cell_type": "code",
   "execution_count": null,
   "id": "8aa7b7c2",
   "metadata": {},
   "outputs": [],
   "source": []
  }
 ],
 "metadata": {
  "kernelspec": {
   "display_name": "Python 3 (ipykernel)",
   "language": "python",
   "name": "python3"
  },
  "language_info": {
   "codemirror_mode": {
    "name": "ipython",
    "version": 3
   },
   "file_extension": ".py",
   "mimetype": "text/x-python",
   "name": "python",
   "nbconvert_exporter": "python",
   "pygments_lexer": "ipython3",
   "version": "3.11.5"
  }
 },
 "nbformat": 4,
 "nbformat_minor": 5
}
