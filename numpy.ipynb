{
 "cells": [
  {
   "cell_type": "code",
   "execution_count": 2,
   "id": "4c1a9396",
   "metadata": {},
   "outputs": [],
   "source": [
    "import numpy as np"
   ]
  },
  {
   "cell_type": "code",
   "execution_count": 3,
   "id": "9873c292",
   "metadata": {},
   "outputs": [],
   "source": [
    "arr1=np.array(6)"
   ]
  },
  {
   "cell_type": "code",
   "execution_count": 4,
   "id": "40dacbc7",
   "metadata": {},
   "outputs": [
    {
     "data": {
      "text/plain": [
       "array(6)"
      ]
     },
     "execution_count": 4,
     "metadata": {},
     "output_type": "execute_result"
    }
   ],
   "source": [
    "arr1"
   ]
  },
  {
   "cell_type": "code",
   "execution_count": 5,
   "id": "8042428e",
   "metadata": {},
   "outputs": [
    {
     "data": {
      "text/plain": [
       "numpy.ndarray"
      ]
     },
     "execution_count": 5,
     "metadata": {},
     "output_type": "execute_result"
    }
   ],
   "source": [
    "type(arr1)"
   ]
  },
  {
   "cell_type": "code",
   "execution_count": 6,
   "id": "26a80576",
   "metadata": {},
   "outputs": [],
   "source": [
    "arr2=np.array([[2,3],[5,8],[3,9]])"
   ]
  },
  {
   "cell_type": "code",
   "execution_count": 7,
   "id": "d8185eb1",
   "metadata": {},
   "outputs": [
    {
     "data": {
      "text/plain": [
       "array([[2, 3],\n",
       "       [5, 8],\n",
       "       [3, 9]])"
      ]
     },
     "execution_count": 7,
     "metadata": {},
     "output_type": "execute_result"
    }
   ],
   "source": [
    "arr2"
   ]
  },
  {
   "cell_type": "markdown",
   "id": "9239e8ac",
   "metadata": {},
   "source": [
    "##  array types\n",
    "1.zero array\n",
    "\n",
    "2.ones array\n",
    "\n",
    "3.empty array\n",
    "\n",
    "4.array for range"
   ]
  },
  {
   "cell_type": "code",
   "execution_count": 8,
   "id": "13464480",
   "metadata": {},
   "outputs": [],
   "source": [
    "zero_array=np.zeros(2)"
   ]
  },
  {
   "cell_type": "code",
   "execution_count": 9,
   "id": "58dd3164",
   "metadata": {},
   "outputs": [
    {
     "data": {
      "text/plain": [
       "array([0., 0.])"
      ]
     },
     "execution_count": 9,
     "metadata": {},
     "output_type": "execute_result"
    }
   ],
   "source": [
    "zero_array"
   ]
  },
  {
   "cell_type": "code",
   "execution_count": 10,
   "id": "ac953f9e",
   "metadata": {},
   "outputs": [],
   "source": [
    "arr3=np.arange(6)"
   ]
  },
  {
   "cell_type": "code",
   "execution_count": 11,
   "id": "ee0be7c3",
   "metadata": {},
   "outputs": [
    {
     "data": {
      "text/plain": [
       "array([0, 1, 2, 3, 4, 5])"
      ]
     },
     "execution_count": 11,
     "metadata": {},
     "output_type": "execute_result"
    }
   ],
   "source": [
    "arr3"
   ]
  },
  {
   "cell_type": "code",
   "execution_count": 12,
   "id": "ae4319ac",
   "metadata": {},
   "outputs": [],
   "source": [
    "arr3=np.arange(2,16,2)"
   ]
  },
  {
   "cell_type": "code",
   "execution_count": 13,
   "id": "3117eee5",
   "metadata": {},
   "outputs": [
    {
     "data": {
      "text/plain": [
       "array([ 2,  4,  6,  8, 10, 12, 14])"
      ]
     },
     "execution_count": 13,
     "metadata": {},
     "output_type": "execute_result"
    }
   ],
   "source": [
    "arr3"
   ]
  },
  {
   "cell_type": "code",
   "execution_count": 14,
   "id": "d22307af",
   "metadata": {},
   "outputs": [],
   "source": [
    "arr4=np.transpose(arr2)"
   ]
  },
  {
   "cell_type": "code",
   "execution_count": 15,
   "id": "cd340a31",
   "metadata": {},
   "outputs": [
    {
     "data": {
      "text/plain": [
       "array([[2, 5, 3],\n",
       "       [3, 8, 9]])"
      ]
     },
     "execution_count": 15,
     "metadata": {},
     "output_type": "execute_result"
    }
   ],
   "source": [
    "arr4"
   ]
  },
  {
   "cell_type": "code",
   "execution_count": 16,
   "id": "77f27c09",
   "metadata": {},
   "outputs": [],
   "source": [
    "a1=np.array([2,2])\n",
    "a2=np.array([4,5])"
   ]
  },
  {
   "cell_type": "code",
   "execution_count": 17,
   "id": "e3902630",
   "metadata": {},
   "outputs": [
    {
     "data": {
      "text/plain": [
       "array([2, 2])"
      ]
     },
     "execution_count": 17,
     "metadata": {},
     "output_type": "execute_result"
    }
   ],
   "source": [
    "a1"
   ]
  },
  {
   "cell_type": "code",
   "execution_count": 18,
   "id": "546949fd",
   "metadata": {},
   "outputs": [
    {
     "data": {
      "text/plain": [
       "array([4, 5])"
      ]
     },
     "execution_count": 18,
     "metadata": {},
     "output_type": "execute_result"
    }
   ],
   "source": [
    "a2"
   ]
  },
  {
   "cell_type": "code",
   "execution_count": 19,
   "id": "ec3579b0",
   "metadata": {},
   "outputs": [],
   "source": [
    "concat=np.concatenate((a1,a2))"
   ]
  },
  {
   "cell_type": "code",
   "execution_count": 20,
   "id": "da1a979d",
   "metadata": {},
   "outputs": [
    {
     "data": {
      "text/plain": [
       "array([2, 2, 4, 5])"
      ]
     },
     "execution_count": 20,
     "metadata": {},
     "output_type": "execute_result"
    }
   ],
   "source": [
    "concat"
   ]
  },
  {
   "cell_type": "code",
   "execution_count": 21,
   "id": "644061cb",
   "metadata": {},
   "outputs": [],
   "source": [
    "hori=np.hstack((a1,a2))"
   ]
  },
  {
   "cell_type": "code",
   "execution_count": 22,
   "id": "332bb758",
   "metadata": {},
   "outputs": [
    {
     "data": {
      "text/plain": [
       "array([2, 2, 4, 5])"
      ]
     },
     "execution_count": 22,
     "metadata": {},
     "output_type": "execute_result"
    }
   ],
   "source": [
    "hori"
   ]
  },
  {
   "cell_type": "code",
   "execution_count": 23,
   "id": "402e7afb",
   "metadata": {},
   "outputs": [],
   "source": [
    "veri=np.vstack((a1,a2))"
   ]
  },
  {
   "cell_type": "code",
   "execution_count": 24,
   "id": "610e9ee4",
   "metadata": {},
   "outputs": [
    {
     "data": {
      "text/plain": [
       "array([[2, 2],\n",
       "       [4, 5]])"
      ]
     },
     "execution_count": 24,
     "metadata": {},
     "output_type": "execute_result"
    }
   ],
   "source": [
    "veri"
   ]
  },
  {
   "cell_type": "code",
   "execution_count": 34,
   "id": "64a156dd",
   "metadata": {},
   "outputs": [],
   "source": [
    "mat1=np.array([[3,4],[1,2]])"
   ]
  },
  {
   "cell_type": "code",
   "execution_count": 35,
   "id": "bdfd5d1f",
   "metadata": {},
   "outputs": [
    {
     "data": {
      "text/plain": [
       "array([[3, 4],\n",
       "       [1, 2]])"
      ]
     },
     "execution_count": 35,
     "metadata": {},
     "output_type": "execute_result"
    }
   ],
   "source": [
    "mat1"
   ]
  },
  {
   "cell_type": "code",
   "execution_count": 36,
   "id": "cb34c0e6",
   "metadata": {},
   "outputs": [],
   "source": [
    "det_of_mat1=np.linalg.det(mat1)"
   ]
  },
  {
   "cell_type": "code",
   "execution_count": 37,
   "id": "68ecf921",
   "metadata": {},
   "outputs": [
    {
     "data": {
      "text/plain": [
       "2.0000000000000004"
      ]
     },
     "execution_count": 37,
     "metadata": {},
     "output_type": "execute_result"
    }
   ],
   "source": [
    "det_of_mat1"
   ]
  },
  {
   "cell_type": "code",
   "execution_count": 38,
   "id": "dd47e970",
   "metadata": {},
   "outputs": [],
   "source": [
    "inverse=np.linalg.det(mat1)"
   ]
  },
  {
   "cell_type": "code",
   "execution_count": 39,
   "id": "dca731e0",
   "metadata": {},
   "outputs": [
    {
     "data": {
      "text/plain": [
       "2.0000000000000004"
      ]
     },
     "execution_count": 39,
     "metadata": {},
     "output_type": "execute_result"
    }
   ],
   "source": [
    "inverse"
   ]
  },
  {
   "cell_type": "code",
   "execution_count": 40,
   "id": "1732b190",
   "metadata": {},
   "outputs": [],
   "source": [
    "dense=np.array(([1,0,0,0],[1,2,0,0],[2,0,0,1],[2,0,0,0]))"
   ]
  },
  {
   "cell_type": "code",
   "execution_count": 41,
   "id": "9519004d",
   "metadata": {},
   "outputs": [
    {
     "data": {
      "text/plain": [
       "array([[1, 0, 0, 0],\n",
       "       [1, 2, 0, 0],\n",
       "       [2, 0, 0, 1],\n",
       "       [2, 0, 0, 0]])"
      ]
     },
     "execution_count": 41,
     "metadata": {},
     "output_type": "execute_result"
    }
   ],
   "source": [
    "dense"
   ]
  },
  {
   "cell_type": "code",
   "execution_count": 42,
   "id": "e9d43a16",
   "metadata": {},
   "outputs": [],
   "source": [
    "from scipy.sparse import csr_matrix"
   ]
  },
  {
   "cell_type": "code",
   "execution_count": 43,
   "id": "2a5fbfe7",
   "metadata": {},
   "outputs": [],
   "source": [
    "sparse=csr_matrix(dense)"
   ]
  },
  {
   "cell_type": "code",
   "execution_count": 44,
   "id": "dfb1eb0f",
   "metadata": {},
   "outputs": [
    {
     "data": {
      "text/plain": [
       "<4x4 sparse matrix of type '<class 'numpy.intc'>'\n",
       "\twith 6 stored elements in Compressed Sparse Row format>"
      ]
     },
     "execution_count": 44,
     "metadata": {},
     "output_type": "execute_result"
    }
   ],
   "source": [
    "sparse"
   ]
  },
  {
   "cell_type": "code",
   "execution_count": 45,
   "id": "0fe0cfda",
   "metadata": {},
   "outputs": [
    {
     "name": "stdout",
     "output_type": "stream",
     "text": [
      "  (0, 0)\t1\n",
      "  (1, 0)\t1\n",
      "  (1, 1)\t2\n",
      "  (2, 0)\t2\n",
      "  (2, 3)\t1\n",
      "  (3, 0)\t2\n"
     ]
    }
   ],
   "source": [
    "print(sparse)"
   ]
  }
 ],
 "metadata": {
  "kernelspec": {
   "display_name": "Python 3 (ipykernel)",
   "language": "python",
   "name": "python3"
  },
  "language_info": {
   "codemirror_mode": {
    "name": "ipython",
    "version": 3
   },
   "file_extension": ".py",
   "mimetype": "text/x-python",
   "name": "python",
   "nbconvert_exporter": "python",
   "pygments_lexer": "ipython3",
   "version": "3.11.5"
  }
 },
 "nbformat": 4,
 "nbformat_minor": 5
}
